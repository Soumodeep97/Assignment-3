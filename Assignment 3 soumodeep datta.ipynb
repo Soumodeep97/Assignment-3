{
 "cells": [
  {
   "cell_type": "code",
   "execution_count": null,
   "metadata": {},
   "outputs": [],
   "source": [
    "#Q1 merging two files into a third file.\n",
    "import shutil\n",
    "file1=input('Enter the name of file')\n",
    "file2=input('Enter the name of file')\n",
    "destination=('Enter the name of file')\n",
    "with open(destination,'wb') as wfd:\n",
    "    for files in(file1,file2):\n",
    "        with open(files,'rb') as fd:\n",
    "            shutil.copyfileobj(fd,wfd)\n",
    "new=open(destination,'r')\n",
    "print(new.read())\n",
    "new.close()"
   ]
  },
  {
   "cell_type": "code",
   "execution_count": null,
   "metadata": {},
   "outputs": [],
   "source": [
    "#Q2 Dictionary output\n",
    "list1 = [1,2,3,4,5]\n",
    "list2 = [\"a\", \"b\", \"c\", \"d\", \"e\"]\n",
    "d=dict(zip(list1,list2))"
   ]
  },
  {
   "cell_type": "code",
   "execution_count": null,
   "metadata": {},
   "outputs": [],
   "source": []
  }
 ],
 "metadata": {
  "kernelspec": {
   "display_name": "Python 3",
   "language": "python",
   "name": "python3"
  },
  "language_info": {
   "codemirror_mode": {
    "name": "ipython",
    "version": 3
   },
   "file_extension": ".py",
   "mimetype": "text/x-python",
   "name": "python",
   "nbconvert_exporter": "python",
   "pygments_lexer": "ipython3",
   "version": "3.8.5"
  }
 },
 "nbformat": 4,
 "nbformat_minor": 4
}
